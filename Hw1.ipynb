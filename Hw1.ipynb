{
  "cells": [
    {
      "cell_type": "markdown",
      "metadata": {
        "id": "view-in-github",
        "colab_type": "text"
      },
      "source": [
        "<a href=\"https://colab.research.google.com/github/artur-trotskyi/api/blob/master/Hw1.ipynb\" target=\"_parent\"><img src=\"https://colab.research.google.com/assets/colab-badge.svg\" alt=\"Open In Colab\"/></a>"
      ]
    },
    {
      "cell_type": "code",
      "execution_count": null,
      "metadata": {
        "id": "eT4kIRCGG49J"
      },
      "outputs": [],
      "source": [
        "import numpy as np"
      ]
    },
    {
      "cell_type": "markdown",
      "metadata": {
        "id": "xZbVTrqUHD_X"
      },
      "source": [
        "1. Створіть одновимірний масив (вектор) з першими 10-ма натуральними числами та виведіть його значення."
      ]
    },
    {
      "cell_type": "code",
      "execution_count": null,
      "metadata": {
        "colab": {
          "base_uri": "https://localhost:8080/"
        },
        "id": "CU5uqj7SHFD_",
        "outputId": "1d206315-033f-480c-9dbc-082039b08093"
      },
      "outputs": [
        {
          "data": {
            "text/plain": [
              "array([ 1,  2,  3,  4,  5,  6,  7,  8,  9, 10])"
            ]
          },
          "execution_count": 6,
          "metadata": {},
          "output_type": "execute_result"
        }
      ],
      "source": [
        "v = np.arange(1, 11, 1, dtype=int)\n",
        "v"
      ]
    },
    {
      "cell_type": "markdown",
      "metadata": {
        "id": "2HQWUvwIH7Ix"
      },
      "source": [
        "2. Створіть двовимірний масив (матрицю) розміром 3x3, заповніть його нулями та виведіть його значення."
      ]
    },
    {
      "cell_type": "code",
      "execution_count": null,
      "metadata": {
        "colab": {
          "base_uri": "https://localhost:8080/"
        },
        "id": "nbq2BeN6KgBS",
        "outputId": "8ce63689-9c94-424e-c276-faa0909230ce"
      },
      "outputs": [
        {
          "data": {
            "text/plain": [
              "array([[0, 0, 0],\n",
              "       [0, 0, 0],\n",
              "       [0, 0, 0]])"
            ]
          },
          "execution_count": 12,
          "metadata": {},
          "output_type": "execute_result"
        }
      ],
      "source": [
        "a = np.zeros((3, 3), dtype=int)\n",
        "a"
      ]
    },
    {
      "cell_type": "markdown",
      "metadata": {
        "id": "J1C0Kx27H-cI"
      },
      "source": [
        "3. Створіть масив розміром 5x5, заповніть його випадковими цілими числами в діапазоні від 1 до 10 та виведіть його значення."
      ]
    },
    {
      "cell_type": "code",
      "execution_count": null,
      "metadata": {
        "colab": {
          "base_uri": "https://localhost:8080/"
        },
        "id": "DgVYp_iZLQlV",
        "outputId": "d177ac13-08ea-4507-ddc1-b3ff9767af5d"
      },
      "outputs": [
        {
          "data": {
            "text/plain": [
              "array([[ 7,  7,  3,  9,  3],\n",
              "       [ 7, 10,  9,  1,  5],\n",
              "       [ 8,  2, 10,  9, 10],\n",
              "       [ 2,  9,  8, 10, 10],\n",
              "       [ 2,  7,  3,  8,  7]])"
            ]
          },
          "execution_count": 20,
          "metadata": {},
          "output_type": "execute_result"
        }
      ],
      "source": [
        "a = np.random.randint(1, 11, size=(5, 5))\n",
        "a"
      ]
    },
    {
      "cell_type": "markdown",
      "metadata": {
        "id": "7EUQwfI2IAN0"
      },
      "source": [
        "4. Створіть масив розміром 4x4, заповніть його випадковими дійсними числами в діапазоні від 0 до 1 та виведіть його значення."
      ]
    },
    {
      "cell_type": "code",
      "execution_count": null,
      "metadata": {
        "colab": {
          "base_uri": "https://localhost:8080/"
        },
        "id": "DpW0QXpBNO-x",
        "outputId": "be79f0ed-8d16-42eb-b81f-97bf6f49bc8f"
      },
      "outputs": [
        {
          "data": {
            "text/plain": [
              "array([[0.7673163 , 0.5442026 , 0.66304923, 0.88998063],\n",
              "       [0.78698448, 0.564963  , 0.93645571, 0.42200473],\n",
              "       [0.82477617, 0.09188121, 0.34386313, 0.19042324],\n",
              "       [0.24016673, 0.6636372 , 0.23655549, 0.37971787]])"
            ]
          },
          "execution_count": 23,
          "metadata": {},
          "output_type": "execute_result"
        }
      ],
      "source": [
        "a = np.random.random(size=(4, 4))\n",
        "a"
      ]
    },
    {
      "cell_type": "markdown",
      "metadata": {
        "id": "Pyp-bNtRIB_W"
      },
      "source": [
        "5. Створіть два одновимірних масиви розміром 5, заповніть їх випадковими цілими числами в діапазоні від 1 до 10 та виконайте на них поелементні операції додавання, віднімання та множення."
      ]
    },
    {
      "cell_type": "code",
      "execution_count": null,
      "metadata": {
        "colab": {
          "base_uri": "https://localhost:8080/"
        },
        "id": "KaXXDpoLNyX1",
        "outputId": "20a83935-2b84-4f8e-cf95-624a1921dfed"
      },
      "outputs": [
        {
          "data": {
            "text/plain": [
              "array([3, 2, 8, 9, 4])"
            ]
          },
          "execution_count": 28,
          "metadata": {},
          "output_type": "execute_result"
        }
      ],
      "source": [
        "a = np.random.randint(1, 10, size=5)\n",
        "a"
      ]
    },
    {
      "cell_type": "code",
      "execution_count": null,
      "metadata": {
        "colab": {
          "base_uri": "https://localhost:8080/"
        },
        "id": "DlC9SRZQOcwO",
        "outputId": "144f43f7-22e6-4e42-b5da-6ce026969e47"
      },
      "outputs": [
        {
          "data": {
            "text/plain": [
              "array([9, 2, 2, 4, 2])"
            ]
          },
          "execution_count": 29,
          "metadata": {},
          "output_type": "execute_result"
        }
      ],
      "source": [
        "b = np.random.randint(1, 10, size=5)\n",
        "b"
      ]
    },
    {
      "cell_type": "code",
      "execution_count": null,
      "metadata": {
        "colab": {
          "base_uri": "https://localhost:8080/"
        },
        "id": "54EIRvfmOf8o",
        "outputId": "aa55f09a-e47e-4410-f87a-de0e0e83c1d7"
      },
      "outputs": [
        {
          "data": {
            "text/plain": [
              "array([12,  4, 10, 13,  6])"
            ]
          },
          "execution_count": 30,
          "metadata": {},
          "output_type": "execute_result"
        }
      ],
      "source": [
        "a + b"
      ]
    },
    {
      "cell_type": "code",
      "execution_count": null,
      "metadata": {
        "colab": {
          "base_uri": "https://localhost:8080/"
        },
        "id": "k95L8YPOOmuA",
        "outputId": "c502c9ac-4a38-4121-db57-40d98e1a36f9"
      },
      "outputs": [
        {
          "data": {
            "text/plain": [
              "array([-6,  0,  6,  5,  2])"
            ]
          },
          "execution_count": 31,
          "metadata": {},
          "output_type": "execute_result"
        }
      ],
      "source": [
        "a - b"
      ]
    },
    {
      "cell_type": "code",
      "execution_count": null,
      "metadata": {
        "colab": {
          "base_uri": "https://localhost:8080/"
        },
        "id": "8vFjJ2cKPF8z",
        "outputId": "ddb865a3-f127-47d2-8dff-c5f07517c487"
      },
      "outputs": [
        {
          "data": {
            "text/plain": [
              "array([27,  4, 16, 36,  8])"
            ]
          },
          "execution_count": 32,
          "metadata": {},
          "output_type": "execute_result"
        }
      ],
      "source": [
        "a * b"
      ]
    },
    {
      "cell_type": "markdown",
      "metadata": {
        "id": "DydPAGyzIDY-"
      },
      "source": [
        "6. Створіть два вектори розміром 7, заповніть довільними числами та знайдіть їх скалярний добуток."
      ]
    },
    {
      "cell_type": "code",
      "execution_count": null,
      "metadata": {
        "colab": {
          "base_uri": "https://localhost:8080/"
        },
        "id": "U6sESCjrPPQG",
        "outputId": "c687affa-40d1-42fd-d1ce-f7ad32c626f9"
      },
      "outputs": [
        {
          "data": {
            "text/plain": [
              "132"
            ]
          },
          "execution_count": 33,
          "metadata": {},
          "output_type": "execute_result"
        }
      ],
      "source": [
        "a = np.random.randint(1, 10, size=7)\n",
        "b = np.random.randint(1, 10, size=7)\n",
        "np.dot(a, b)"
      ]
    },
    {
      "cell_type": "markdown",
      "metadata": {
        "id": "vAP1dueXIE9E"
      },
      "source": [
        "7. Створіть дві матриці розміром 2x2 та 2x3, заповніть їх випадковими цілими числами в діапазоні від 1 до 10 та перемножте їх між собою."
      ]
    },
    {
      "cell_type": "code",
      "execution_count": null,
      "metadata": {
        "colab": {
          "base_uri": "https://localhost:8080/"
        },
        "id": "VUTKCyzpRUb7",
        "outputId": "6371e1ef-45ac-484b-9885-bed6db6e996e"
      },
      "outputs": [
        {
          "data": {
            "text/plain": [
              "array([[69, 60, 62],\n",
              "       [68, 40, 64]])"
            ]
          },
          "execution_count": 42,
          "metadata": {},
          "output_type": "execute_result"
        }
      ],
      "source": [
        "a = np.random.randint(1, 10, size=(2, 2))\n",
        "b = np.random.randint(1, 10, size=(2, 3))\n",
        "np.dot(a, b)"
      ]
    },
    {
      "cell_type": "markdown",
      "metadata": {
        "id": "MZa4qiMlIG3b"
      },
      "source": [
        "8. Створіть матрицю розміром 3x3, заповніть її випадковими цілими числами в діапазоні від 1 до 10 та знайдіть її обернену матрицю."
      ]
    },
    {
      "cell_type": "code",
      "execution_count": null,
      "metadata": {
        "colab": {
          "base_uri": "https://localhost:8080/"
        },
        "id": "tjqBVENOnJUG",
        "outputId": "c33f08f9-d181-4234-ba15-bd43d28150c8"
      },
      "outputs": [
        {
          "data": {
            "text/plain": [
              "array([[4, 2, 3],\n",
              "       [2, 9, 3],\n",
              "       [3, 3, 3]])"
            ]
          },
          "execution_count": 50,
          "metadata": {},
          "output_type": "execute_result"
        }
      ],
      "source": [
        "a = np.random.randint(1, 10, size=(3, 3))\n",
        "a"
      ]
    },
    {
      "cell_type": "code",
      "execution_count": null,
      "metadata": {
        "colab": {
          "base_uri": "https://localhost:8080/"
        },
        "id": "g6uXFCluoFCy",
        "outputId": "8f31ab7d-8fa8-4ad0-fb3f-7bac6c359f63"
      },
      "outputs": [
        {
          "data": {
            "text/plain": [
              "array([[ 1.2       ,  0.2       , -1.4       ],\n",
              "       [ 0.2       ,  0.2       , -0.4       ],\n",
              "       [-1.4       , -0.4       ,  2.13333333]])"
            ]
          },
          "execution_count": 51,
          "metadata": {},
          "output_type": "execute_result"
        }
      ],
      "source": [
        "np.linalg.inv(a)"
      ]
    },
    {
      "cell_type": "markdown",
      "metadata": {
        "id": "WXjWNG81IIbI"
      },
      "source": [
        "9. Створіть матрицю розміром 4x4, заповніть її випадковими дійсними числами в діапазоні від 0 до 1 та транспонуйте її."
      ]
    },
    {
      "cell_type": "code",
      "execution_count": null,
      "metadata": {
        "colab": {
          "base_uri": "https://localhost:8080/"
        },
        "id": "JzqM92I7oP3u",
        "outputId": "27e3e953-11b5-407e-de6b-28235af247d3"
      },
      "outputs": [
        {
          "data": {
            "text/plain": [
              "array([[0.36305999, 0.24848749, 0.8133304 , 0.95338249],\n",
              "       [0.1766976 , 0.9504348 , 0.93758525, 0.29333532],\n",
              "       [0.07618944, 0.24825568, 0.46777286, 0.73116263],\n",
              "       [0.71562394, 0.0581386 , 0.68292371, 0.01823634]])"
            ]
          },
          "execution_count": 52,
          "metadata": {},
          "output_type": "execute_result"
        }
      ],
      "source": [
        "a = np.random.random(size=(4, 4))\n",
        "a"
      ]
    },
    {
      "cell_type": "code",
      "execution_count": null,
      "metadata": {
        "colab": {
          "base_uri": "https://localhost:8080/"
        },
        "id": "kXvvhivCofio",
        "outputId": "882be11b-459a-44ba-9edf-417e9f7378f0"
      },
      "outputs": [
        {
          "data": {
            "text/plain": [
              "array([[0.36305999, 0.1766976 , 0.07618944, 0.71562394],\n",
              "       [0.24848749, 0.9504348 , 0.24825568, 0.0581386 ],\n",
              "       [0.8133304 , 0.93758525, 0.46777286, 0.68292371],\n",
              "       [0.95338249, 0.29333532, 0.73116263, 0.01823634]])"
            ]
          },
          "execution_count": 53,
          "metadata": {},
          "output_type": "execute_result"
        }
      ],
      "source": [
        "a.T"
      ]
    },
    {
      "cell_type": "markdown",
      "metadata": {
        "id": "rP18yhHMIJ65"
      },
      "source": [
        "10. Створіть матрицю розміром 3x4 та вектор розміром 4, заповніть їх випадковими цілими числами в діапазоні від 1 до 10 та перемножте матрицю на вектор."
      ]
    },
    {
      "cell_type": "code",
      "execution_count": null,
      "metadata": {
        "colab": {
          "base_uri": "https://localhost:8080/"
        },
        "id": "Zj1YwrOQoqIg",
        "outputId": "d3c8e273-3e3a-440e-ed52-1a4571df3bd5"
      },
      "outputs": [
        {
          "data": {
            "text/plain": [
              "array([[6, 1, 7, 8],\n",
              "       [3, 8, 7, 8],\n",
              "       [0, 6, 1, 7]])"
            ]
          },
          "execution_count": 55,
          "metadata": {},
          "output_type": "execute_result"
        }
      ],
      "source": [
        "a = np.random.randint(1, 10, size=(3, 4))\n",
        "a"
      ]
    },
    {
      "cell_type": "code",
      "execution_count": null,
      "metadata": {
        "colab": {
          "base_uri": "https://localhost:8080/"
        },
        "id": "1OwL0ObDo8Ku",
        "outputId": "c6336d39-8fc9-4950-981f-e02009433719"
      },
      "outputs": [
        {
          "data": {
            "text/plain": [
              "array([5, 8, 3, 3])"
            ]
          },
          "execution_count": 56,
          "metadata": {},
          "output_type": "execute_result"
        }
      ],
      "source": [
        "v = np.random.randint(1, 11, size=4)\n",
        "v"
      ]
    },
    {
      "cell_type": "code",
      "execution_count": null,
      "metadata": {
        "colab": {
          "base_uri": "https://localhost:8080/"
        },
        "id": "imvuSLRvppEe",
        "outputId": "1e049e46-48e0-4262-d89a-e98c5c3b221c"
      },
      "outputs": [
        {
          "data": {
            "text/plain": [
              "array([[30,  8, 21, 24],\n",
              "       [15, 64, 21, 24],\n",
              "       [ 0, 48,  3, 21]])"
            ]
          },
          "execution_count": 57,
          "metadata": {},
          "output_type": "execute_result"
        }
      ],
      "source": [
        "a * v"
      ]
    },
    {
      "cell_type": "markdown",
      "metadata": {
        "id": "6r-T8i1LIh7D"
      },
      "source": [
        "11. Створіть матрицю розміром 2x3 та вектор розміром 3, заповніть їх випадковими дійсними числами в діапазоні від 0 до 1 та перемножте матрицю на вектор."
      ]
    },
    {
      "cell_type": "code",
      "execution_count": null,
      "metadata": {
        "colab": {
          "base_uri": "https://localhost:8080/"
        },
        "id": "MQw3GqP7pxpT",
        "outputId": "84600ffb-bf3d-471b-b58b-2b07bea355e8"
      },
      "outputs": [
        {
          "data": {
            "text/plain": [
              "array([[0.04609521, 0.1934861 , 0.78056459],\n",
              "       [0.85688451, 0.44413263, 0.14185524]])"
            ]
          },
          "execution_count": 58,
          "metadata": {},
          "output_type": "execute_result"
        }
      ],
      "source": [
        "a = np.random.random(size=(2, 3))\n",
        "a"
      ]
    },
    {
      "cell_type": "code",
      "execution_count": null,
      "metadata": {
        "colab": {
          "base_uri": "https://localhost:8080/"
        },
        "id": "TQKVHPubp9F8",
        "outputId": "7a95b491-3ed7-43e0-dbee-4f3ccaabea52"
      },
      "outputs": [
        {
          "data": {
            "text/plain": [
              "array([0.58197695, 0.68852792, 0.50594612])"
            ]
          },
          "execution_count": 59,
          "metadata": {},
          "output_type": "execute_result"
        }
      ],
      "source": [
        "v = np.random.random(size=3)\n",
        "v"
      ]
    },
    {
      "cell_type": "code",
      "execution_count": null,
      "metadata": {
        "colab": {
          "base_uri": "https://localhost:8080/"
        },
        "id": "JiTwGMLcqIyM",
        "outputId": "b4701332-8566-4111-92e4-8a983330ebcf"
      },
      "outputs": [
        {
          "data": {
            "text/plain": [
              "array([[0.02682635, 0.13322058, 0.39492362],\n",
              "       [0.49868703, 0.30579771, 0.07177111]])"
            ]
          },
          "execution_count": 60,
          "metadata": {},
          "output_type": "execute_result"
        }
      ],
      "source": [
        "a * v"
      ]
    },
    {
      "cell_type": "markdown",
      "metadata": {
        "id": "EWASRnjtIkUi"
      },
      "source": [
        "12. Створіть дві матриці розміром 2x2, заповніть їх випадковими цілими числами в діапазоні від 1 до 10 та виконайте їхнє поелементне множення."
      ]
    },
    {
      "cell_type": "code",
      "execution_count": null,
      "metadata": {
        "colab": {
          "base_uri": "https://localhost:8080/"
        },
        "id": "hpw1diAjqiP0",
        "outputId": "e685f164-b550-4444-c485-8578e78728ad"
      },
      "outputs": [
        {
          "data": {
            "text/plain": [
              "array([[7, 3],\n",
              "       [9, 3]])"
            ]
          },
          "execution_count": 61,
          "metadata": {},
          "output_type": "execute_result"
        }
      ],
      "source": [
        "a_1 = np.random.randint(1, 10, size=(2, 2))\n",
        "a_1"
      ]
    },
    {
      "cell_type": "code",
      "execution_count": null,
      "metadata": {
        "colab": {
          "base_uri": "https://localhost:8080/"
        },
        "id": "hUpPty02quSS",
        "outputId": "db6a87de-6f6d-40af-c324-8f1503dd9173"
      },
      "outputs": [
        {
          "data": {
            "text/plain": [
              "array([[4, 6],\n",
              "       [9, 4]])"
            ]
          },
          "execution_count": 62,
          "metadata": {},
          "output_type": "execute_result"
        }
      ],
      "source": [
        "a_2 = np.random.randint(1, 10, size=(2, 2))\n",
        "a_2"
      ]
    },
    {
      "cell_type": "code",
      "execution_count": null,
      "metadata": {
        "colab": {
          "base_uri": "https://localhost:8080/"
        },
        "id": "oHIX6AsOq0R6",
        "outputId": "b68196b2-f88f-43de-cb40-765b73db6dac"
      },
      "outputs": [
        {
          "data": {
            "text/plain": [
              "array([[28, 18],\n",
              "       [81, 12]])"
            ]
          },
          "execution_count": 63,
          "metadata": {},
          "output_type": "execute_result"
        }
      ],
      "source": [
        "a_1 * a_2"
      ]
    },
    {
      "cell_type": "markdown",
      "metadata": {
        "id": "k6tR0vJLImu-"
      },
      "source": [
        "13. Створіть дві матриці розміром 2x2, заповніть їх випадковими цілими числами в діапазоні від 1 до 10 та знайдіть їх добуток."
      ]
    },
    {
      "cell_type": "code",
      "execution_count": null,
      "metadata": {
        "colab": {
          "base_uri": "https://localhost:8080/"
        },
        "id": "8jisGPPeq8g3",
        "outputId": "5c1c8200-7965-47fc-d160-e9dc0412f0b2"
      },
      "outputs": [
        {
          "data": {
            "text/plain": [
              "array([[55, 54],\n",
              "       [63, 66]])"
            ]
          },
          "execution_count": 64,
          "metadata": {},
          "output_type": "execute_result"
        }
      ],
      "source": [
        "np.dot(a_1, a_2)"
      ]
    },
    {
      "cell_type": "markdown",
      "metadata": {
        "id": "1bVtWQ2SIpKi"
      },
      "source": [
        "14. Створіть матрицю розміром 5x5, заповніть її випадковими цілими числами в діапазоні від 1 до 100 та знайдіть суму елементів матриці."
      ]
    },
    {
      "cell_type": "code",
      "execution_count": null,
      "metadata": {
        "colab": {
          "base_uri": "https://localhost:8080/"
        },
        "id": "KMKvwQA2rVjx",
        "outputId": "6ac679d3-c75b-4d9b-c035-f34cca12104e"
      },
      "outputs": [
        {
          "data": {
            "text/plain": [
              "array([[83, 37, 55, 14, 23],\n",
              "       [12, 56, 73, 16, 76],\n",
              "       [59, 86, 66, 16, 72],\n",
              "       [80, 23, 13, 53, 25],\n",
              "       [24, 97,  9, 79, 14]])"
            ]
          },
          "execution_count": 65,
          "metadata": {},
          "output_type": "execute_result"
        }
      ],
      "source": [
        "a = np.random.randint(1, 100, size=(5, 5))\n",
        "a"
      ]
    },
    {
      "cell_type": "code",
      "execution_count": null,
      "metadata": {
        "colab": {
          "base_uri": "https://localhost:8080/"
        },
        "id": "zRDVfQCmrbmP",
        "outputId": "8a8255e6-77e3-4426-9650-8c6a8df587c9"
      },
      "outputs": [
        {
          "data": {
            "text/plain": [
              "1161"
            ]
          },
          "execution_count": 67,
          "metadata": {},
          "output_type": "execute_result"
        }
      ],
      "source": [
        "a.sum()"
      ]
    },
    {
      "cell_type": "markdown",
      "metadata": {
        "id": "NLeS_9L4IrVn"
      },
      "source": [
        "15. Створіть дві матриці розміром 4x4, заповніть їх випадковими цілими числами в діапазоні від 1 до 10 та знайдіть їхню різницю."
      ]
    },
    {
      "cell_type": "code",
      "execution_count": null,
      "metadata": {
        "colab": {
          "base_uri": "https://localhost:8080/"
        },
        "id": "5cGGz6o6rwB3",
        "outputId": "68859ca6-1010-4cd2-8378-7f079dbfc808"
      },
      "outputs": [
        {
          "data": {
            "text/plain": [
              "array([[7, 9, 5, 4],\n",
              "       [1, 7, 8, 3],\n",
              "       [3, 7, 1, 3],\n",
              "       [8, 1, 9, 2]])"
            ]
          },
          "execution_count": 68,
          "metadata": {},
          "output_type": "execute_result"
        }
      ],
      "source": [
        "a_1 = np.random.randint(1, 10, size=(4, 4))\n",
        "a_1"
      ]
    },
    {
      "cell_type": "code",
      "execution_count": null,
      "metadata": {
        "colab": {
          "base_uri": "https://localhost:8080/"
        },
        "id": "qxhNmEM5rvLe",
        "outputId": "0513025f-abfe-44bb-f956-e7c56354b76d"
      },
      "outputs": [
        {
          "data": {
            "text/plain": [
              "array([[4, 5, 3, 6],\n",
              "       [4, 4, 7, 7],\n",
              "       [3, 4, 1, 3],\n",
              "       [6, 6, 9, 9]])"
            ]
          },
          "execution_count": 69,
          "metadata": {},
          "output_type": "execute_result"
        }
      ],
      "source": [
        "a_2 = np.random.randint(1, 10, size=(4, 4))\n",
        "a_2"
      ]
    },
    {
      "cell_type": "code",
      "execution_count": null,
      "metadata": {
        "colab": {
          "base_uri": "https://localhost:8080/"
        },
        "id": "Rhm0BJ2nr9n5",
        "outputId": "7617f36b-c45f-4412-ae42-0818d75380ff"
      },
      "outputs": [
        {
          "data": {
            "text/plain": [
              "array([[ 3,  4,  2, -2],\n",
              "       [-3,  3,  1, -4],\n",
              "       [ 0,  3,  0,  0],\n",
              "       [ 2, -5,  0, -7]])"
            ]
          },
          "execution_count": 70,
          "metadata": {},
          "output_type": "execute_result"
        }
      ],
      "source": [
        "a_1 - a_2"
      ]
    },
    {
      "cell_type": "markdown",
      "metadata": {
        "id": "Tf-3hyhSIuNA"
      },
      "source": [
        "16. Створіть матрицю розміром 3x3, заповніть її випадковими дійсними числами в діапазоні від 0 до 1 та знайдіть вектор-стовпчик, що містить суму елементів кожного рядка матриці."
      ]
    },
    {
      "cell_type": "code",
      "execution_count": null,
      "metadata": {
        "colab": {
          "base_uri": "https://localhost:8080/"
        },
        "id": "juyDuDU5sIuR",
        "outputId": "e62d3cff-f1c7-41ec-9a9d-7eeeace3b07b"
      },
      "outputs": [
        {
          "data": {
            "text/plain": [
              "array([[0.88170308, 0.11903346, 0.94484981],\n",
              "       [0.1032404 , 0.3086418 , 0.40419228],\n",
              "       [0.56480177, 0.987291  , 0.65447959]])"
            ]
          },
          "execution_count": 71,
          "metadata": {},
          "output_type": "execute_result"
        }
      ],
      "source": [
        "a = np.random.random(size=(3, 3))\n",
        "a"
      ]
    },
    {
      "cell_type": "code",
      "execution_count": null,
      "metadata": {
        "colab": {
          "base_uri": "https://localhost:8080/"
        },
        "id": "wR4eFHrQsYAM",
        "outputId": "20eff013-80ed-41c8-864c-72510ac2c8ed"
      },
      "outputs": [
        {
          "data": {
            "text/plain": [
              "array([1.94558635, 0.81607448, 2.20657237])"
            ]
          },
          "execution_count": 73,
          "metadata": {},
          "output_type": "execute_result"
        }
      ],
      "source": [
        "sum(a.T)"
      ]
    },
    {
      "cell_type": "code",
      "execution_count": null,
      "metadata": {
        "colab": {
          "base_uri": "https://localhost:8080/"
        },
        "id": "al-bR92msyPD",
        "outputId": "b54f1c4a-7057-4dc8-bb45-7c958400380c"
      },
      "outputs": [
        {
          "data": {
            "text/plain": [
              "array([1.94558635, 0.81607448, 2.20657237])"
            ]
          },
          "execution_count": 74,
          "metadata": {},
          "output_type": "execute_result"
        }
      ],
      "source": [
        "a.sum(axis=1)"
      ]
    },
    {
      "cell_type": "markdown",
      "metadata": {
        "id": "UzL-NV4MI1E1"
      },
      "source": [
        "17. Створіть матрицю розміром 3x4 з довільними цілими числами і створінь матрицю з квадратами цих чисел."
      ]
    },
    {
      "cell_type": "code",
      "execution_count": null,
      "metadata": {
        "colab": {
          "base_uri": "https://localhost:8080/"
        },
        "id": "9hDCrZYRtGIR",
        "outputId": "06cf3d19-c42a-48d3-fd41-e89fbbb1f6f3"
      },
      "outputs": [
        {
          "data": {
            "text/plain": [
              "array([[ 9, 18, 18,  3],\n",
              "       [ 8,  4,  6, 12],\n",
              "       [ 7, 13, 18,  8]])"
            ]
          },
          "execution_count": 75,
          "metadata": {},
          "output_type": "execute_result"
        }
      ],
      "source": [
        "a = np.random.randint(1, 20, size=(3, 4))\n",
        "a"
      ]
    },
    {
      "cell_type": "code",
      "execution_count": null,
      "metadata": {
        "colab": {
          "base_uri": "https://localhost:8080/"
        },
        "id": "BxQpUdVVtqg5",
        "outputId": "5d20bb94-79ca-4d94-9e99-90706dbf3315"
      },
      "outputs": [
        {
          "data": {
            "text/plain": [
              "array([[ 81, 324, 324,   9],\n",
              "       [ 64,  16,  36, 144],\n",
              "       [ 49, 169, 324,  64]])"
            ]
          },
          "execution_count": 76,
          "metadata": {},
          "output_type": "execute_result"
        }
      ],
      "source": [
        "a * a"
      ]
    },
    {
      "cell_type": "code",
      "execution_count": null,
      "metadata": {
        "colab": {
          "base_uri": "https://localhost:8080/"
        },
        "id": "PFF8g34Ttu3E",
        "outputId": "95f88c77-0990-4599-e18a-6576952c61a7"
      },
      "outputs": [
        {
          "data": {
            "text/plain": [
              "array([[ 81, 324, 324,   9],\n",
              "       [ 64,  16,  36, 144],\n",
              "       [ 49, 169, 324,  64]])"
            ]
          },
          "execution_count": 77,
          "metadata": {},
          "output_type": "execute_result"
        }
      ],
      "source": [
        "a ** 2"
      ]
    },
    {
      "cell_type": "markdown",
      "metadata": {
        "id": "j69hGWTeIy24"
      },
      "source": [
        "18. Створіть вектор розміром 4, заповніть його випадковими цілими числами в діапазоні від 1 до 50 та знайдіть вектор з квадратними коренями цих чисел."
      ]
    },
    {
      "cell_type": "code",
      "execution_count": null,
      "metadata": {
        "colab": {
          "base_uri": "https://localhost:8080/"
        },
        "id": "UIBHMO8Ht4Zu",
        "outputId": "9ffe981d-e79d-4505-dcf1-ad37e5bf9ed1"
      },
      "outputs": [
        {
          "data": {
            "text/plain": [
              "array([13, 41, 45, 35])"
            ]
          },
          "execution_count": 80,
          "metadata": {},
          "output_type": "execute_result"
        }
      ],
      "source": [
        "v = np.random.randint(1, 50, size=4)\n",
        "v"
      ]
    },
    {
      "cell_type": "code",
      "execution_count": null,
      "metadata": {
        "colab": {
          "base_uri": "https://localhost:8080/"
        },
        "id": "PqK8DfI_ukGF",
        "outputId": "6871dc3b-6ce8-475a-8562-d58973fae40b"
      },
      "outputs": [
        {
          "data": {
            "text/plain": [
              "array([3.60555128, 6.40312424, 6.70820393, 5.91607978])"
            ]
          },
          "execution_count": 81,
          "metadata": {},
          "output_type": "execute_result"
        }
      ],
      "source": [
        "v ** 0.5"
      ]
    },
    {
      "cell_type": "code",
      "execution_count": null,
      "metadata": {
        "colab": {
          "base_uri": "https://localhost:8080/"
        },
        "id": "aPiV9K3uulOR",
        "outputId": "96426dc0-0469-4ac9-ef5b-8eaaee011821"
      },
      "outputs": [
        {
          "data": {
            "text/plain": [
              "array([3.60555128, 6.40312424, 6.70820393, 5.91607978])"
            ]
          },
          "execution_count": 82,
          "metadata": {},
          "output_type": "execute_result"
        }
      ],
      "source": [
        "np.sqrt(v)"
      ]
    },
    {
      "cell_type": "markdown",
      "metadata": {
        "id": "K7MmtLnATzoy"
      },
      "source": [
        "**Завдання 2 (додаткове, за бажанням)**"
      ]
    },
    {
      "cell_type": "markdown",
      "metadata": {
        "id": "ZSFNORPbj1ma"
      },
      "source": [
        "1. Замініть усі непарні числа в arr на -1 arr = np.array([0, 1, 2, 3, 4, 5, 6, 7, 8, 9])"
      ]
    },
    {
      "cell_type": "code",
      "execution_count": null,
      "metadata": {
        "colab": {
          "base_uri": "https://localhost:8080/"
        },
        "id": "OyJC6OxHyJlw",
        "outputId": "df3fc005-d38c-413c-d67f-0d5983c39694"
      },
      "outputs": [
        {
          "data": {
            "text/plain": [
              "array([ 0, -1,  2, -1,  4, -1,  6, -1,  8, -1])"
            ]
          },
          "execution_count": 95,
          "metadata": {},
          "output_type": "execute_result"
        }
      ],
      "source": [
        "arr = np.array([0, 1, 2, 3, 4, 5, 6, 7, 8, 9])\n",
        "for index, value in enumerate(arr):\n",
        "    if value % 2:\n",
        "        arr[value] = -1\n",
        "\n",
        "arr"
      ]
    },
    {
      "cell_type": "code",
      "execution_count": null,
      "metadata": {
        "colab": {
          "base_uri": "https://localhost:8080/"
        },
        "id": "qteIvdbnyIWV",
        "outputId": "dbbbc9d4-0dcc-4a5d-de76-a2b213b82358"
      },
      "outputs": [
        {
          "data": {
            "text/plain": [
              "array([ 0, -1,  2, -1,  4, -1,  6, -1,  8, -1])"
            ]
          },
          "execution_count": 101,
          "metadata": {},
          "output_type": "execute_result"
        }
      ],
      "source": [
        "arr = np.array([0, 1, 2, 3, 4, 5, 6, 7, 8, 9])\n",
        "arr[arr % 2 != 0] = -1\n",
        "arr"
      ]
    },
    {
      "cell_type": "markdown",
      "metadata": {
        "id": "DAPbJmb8j5DK"
      },
      "source": [
        "2. Створіть та перетворіть 1D-масив на 2D-масив із 2 рядками"
      ]
    },
    {
      "cell_type": "code",
      "execution_count": null,
      "metadata": {
        "colab": {
          "background_save": true,
          "base_uri": "https://localhost:8080/"
        },
        "id": "UFHj8xMIRTpv",
        "outputId": "ed333cc6-c33e-4760-83cf-a98161de15f6"
      },
      "outputs": [
        {
          "data": {
            "text/plain": [
              "array([[0, 1, 2, 3, 4],\n",
              "       [5, 6, 7, 8, 9]])"
            ]
          },
          "execution_count": 9,
          "metadata": {},
          "output_type": "execute_result"
        }
      ],
      "source": [
        "arr = np.array([0, 1, 2, 3, 4, 5, 6, 7, 8, 9])\n",
        "arr = arr.reshape((5, 2))\n",
        "\n",
        "arr"
      ]
    },
    {
      "cell_type": "markdown",
      "metadata": {
        "id": "ykYFCyrOj64e"
      },
      "source": [
        "3. Створіть два двовимірні масиви а і b, та складіть масиви їх вертикально\n",
        "\n",
        "> Додати блок цитати\n",
        "\n"
      ]
    },
    {
      "cell_type": "code",
      "source": [
        "a = np.random.randint(-10, 10, size=(2, 2))\n",
        "a"
      ],
      "metadata": {
        "colab": {
          "base_uri": "https://localhost:8080/"
        },
        "id": "Rk_Plar7TEWa",
        "outputId": "04ceb5d1-737f-4f5c-d11f-9789c51bbcee"
      },
      "execution_count": 12,
      "outputs": [
        {
          "output_type": "execute_result",
          "data": {
            "text/plain": [
              "array([[0, 7],\n",
              "       [3, 1]])"
            ]
          },
          "metadata": {},
          "execution_count": 12
        }
      ]
    },
    {
      "cell_type": "code",
      "source": [
        "b = np.random.randint(-10, 10, size=(2, 2))\n",
        "b"
      ],
      "metadata": {
        "colab": {
          "base_uri": "https://localhost:8080/"
        },
        "id": "JSFBJafmTTU0",
        "outputId": "829a9c6e-d021-4d18-fefd-8677cc1ecb12"
      },
      "execution_count": 13,
      "outputs": [
        {
          "output_type": "execute_result",
          "data": {
            "text/plain": [
              "array([[ -7,   6],\n",
              "       [  6, -10]])"
            ]
          },
          "metadata": {},
          "execution_count": 13
        }
      ]
    },
    {
      "cell_type": "code",
      "source": [
        "res = a + b\n",
        "res"
      ],
      "metadata": {
        "colab": {
          "base_uri": "https://localhost:8080/"
        },
        "id": "Oc0C4mebTdRE",
        "outputId": "06a7fcec-5881-4b00-c449-3c42e26e2564"
      },
      "execution_count": 14,
      "outputs": [
        {
          "output_type": "execute_result",
          "data": {
            "text/plain": [
              "array([[-7, 13],\n",
              "       [ 9, -9]])"
            ]
          },
          "metadata": {},
          "execution_count": 14
        }
      ]
    },
    {
      "cell_type": "code",
      "source": [
        "res = np.vstack((a, b))\n",
        "res"
      ],
      "metadata": {
        "colab": {
          "base_uri": "https://localhost:8080/"
        },
        "id": "KlvwjzB7Tqkn",
        "outputId": "10251ca9-56c8-40f4-9eb3-0384a6c74c71"
      },
      "execution_count": 15,
      "outputs": [
        {
          "output_type": "execute_result",
          "data": {
            "text/plain": [
              "array([[  0,   7],\n",
              "       [  3,   1],\n",
              "       [ -7,   6],\n",
              "       [  6, -10]])"
            ]
          },
          "metadata": {},
          "execution_count": 15
        }
      ]
    },
    {
      "cell_type": "markdown",
      "metadata": {
        "id": "Nxw4iW1Dj85b"
      },
      "source": [
        "4. Створіть наступний шаблон без жорсткого кодування(Hard coding) . Використовуйте лише функції Numpy і наведений нижче масив введення Input:a = np.array([1,2,3])\n",
        "\n",
        "Output:array([1, 1, 1, 2, 2, 2, 3, 3, 3, 1, 2, 3, 1, 2, 3, 1, 2, 3])"
      ]
    },
    {
      "cell_type": "code",
      "source": [
        "a = np.array([1,2,3])\n",
        "# Повторення кожного елемента 3 рази\n",
        "part1 = np.repeat(a, 3)\n",
        "# Повторення всього масиву 3 рази\n",
        "part2 = np.tile(a, 3)\n",
        "output = np.concatenate((part1, part2))\n",
        "output"
      ],
      "metadata": {
        "colab": {
          "base_uri": "https://localhost:8080/"
        },
        "id": "hFNK9ot9T87t",
        "outputId": "88b7de7e-7250-4a40-e449-13945fcb5acc"
      },
      "execution_count": 17,
      "outputs": [
        {
          "output_type": "execute_result",
          "data": {
            "text/plain": [
              "array([1, 1, 1, 2, 2, 2, 3, 3, 3, 1, 2, 3, 1, 2, 3, 1, 2, 3])"
            ]
          },
          "metadata": {},
          "execution_count": 17
        }
      ]
    },
    {
      "cell_type": "markdown",
      "metadata": {
        "id": "N-SdZ7evj_ue"
      },
      "source": [
        "5. Отримайте спільні елементи між a і b\n",
        "\n",
        "a = np.array([1,2,3,2,3,4,3,4,5,6]) b = np.array([7,2,10,2,7,4,9,4,9,8])"
      ]
    },
    {
      "cell_type": "code",
      "source": [
        "a = np.array([1,2,3,2,3,4,3,4,5,6])\n",
        "b = np.array([7,2,10,2,7,4,9,4,9,8])\n",
        "np.intersect1d(a, b)"
      ],
      "metadata": {
        "colab": {
          "base_uri": "https://localhost:8080/"
        },
        "id": "tl4UXjq2V7q1",
        "outputId": "8e54f89d-b6cc-433b-9018-7a9e47294299"
      },
      "execution_count": 20,
      "outputs": [
        {
          "output_type": "execute_result",
          "data": {
            "text/plain": [
              "array([2, 4])"
            ]
          },
          "metadata": {},
          "execution_count": 20
        }
      ]
    },
    {
      "cell_type": "markdown",
      "metadata": {
        "id": "8jEs6l20kCsT"
      },
      "source": [
        "6. Отримайте позиції перших 5 максимальних значень у заданому масиві a\n",
        "\n",
        "np.random.seed(100) a = np.random.uniform(1,50, 20)"
      ]
    },
    {
      "cell_type": "code",
      "source": [
        "np.random.seed(100)\n",
        "a = np.random.uniform(1,50, 20)\n",
        "a"
      ],
      "metadata": {
        "colab": {
          "base_uri": "https://localhost:8080/"
        },
        "id": "9uTqBb8NWVAD",
        "outputId": "20123768-244a-4ff8-bd0b-ca94d29ad177"
      },
      "execution_count": 54,
      "outputs": [
        {
          "output_type": "execute_result",
          "data": {
            "text/plain": [
              "array([27.62684215, 14.64009987, 21.80136195, 42.39403048,  1.23122395,\n",
              "        6.95688692, 33.86670515, 41.466785  ,  7.69862289, 29.17957314,\n",
              "       44.67477576, 11.25090398, 10.08108276,  6.31046763, 11.76517714,\n",
              "       48.95256545, 40.77247431,  9.42510962, 40.99501269, 14.42961361])"
            ]
          },
          "metadata": {},
          "execution_count": 54
        }
      ]
    },
    {
      "cell_type": "code",
      "source": [
        "# Отримуємо індекси відсортованих значень у порядку зростання\n",
        "sorted_indices = np.argsort(a)\n",
        "# Беремо останні 5 індексів (найбільші значення) у зворотному порядку\n",
        "top_5_indices = sorted_indices[-5:][::-1]\n",
        "top_5_indices"
      ],
      "metadata": {
        "colab": {
          "base_uri": "https://localhost:8080/"
        },
        "id": "6at4jd92Zo6D",
        "outputId": "bd57dc5f-2640-4318-bc74-b1a4e00be8d0"
      },
      "execution_count": 55,
      "outputs": [
        {
          "output_type": "execute_result",
          "data": {
            "text/plain": [
              "array([15, 10,  3,  7, 18])"
            ]
          },
          "metadata": {},
          "execution_count": 55
        }
      ]
    },
    {
      "cell_type": "code",
      "source": [
        "top_5 = a[top_5_indices]\n",
        "top_5"
      ],
      "metadata": {
        "colab": {
          "base_uri": "https://localhost:8080/"
        },
        "id": "VBboCXkXWnJR",
        "outputId": "19efffa7-c579-4e74-8661-18934f5ed9ce"
      },
      "execution_count": 57,
      "outputs": [
        {
          "output_type": "execute_result",
          "data": {
            "text/plain": [
              "array([48.95256545, 44.67477576, 42.39403048, 41.466785  , 40.99501269])"
            ]
          },
          "metadata": {},
          "execution_count": 57
        }
      ]
    },
    {
      "cell_type": "markdown",
      "metadata": {
        "id": "EMzY2H0_kEeM"
      },
      "source": [
        "7. Вилучіть усі значення NaN із одновимірного масиву\n",
        "\n",
        "а=np.array([1,2,3,np.nan,5,6,7,np.nan])"
      ]
    },
    {
      "cell_type": "code",
      "source": [
        "a = np.array([1, 2, 3, np.nan, 5, 6, 7, np.nan])\n",
        "a_clean = a[~np.isnan(a)]\n",
        "a_clean"
      ],
      "metadata": {
        "colab": {
          "base_uri": "https://localhost:8080/"
        },
        "id": "yqV-1YN6aVnL",
        "outputId": "bace265d-9a0e-456e-f5ea-a3cba68e992b"
      },
      "execution_count": 65,
      "outputs": [
        {
          "output_type": "execute_result",
          "data": {
            "text/plain": [
              "array([1., 2., 3., 5., 6., 7.])"
            ]
          },
          "metadata": {},
          "execution_count": 65
        }
      ]
    },
    {
      "cell_type": "code",
      "source": [
        "a = np.array([1, 2, 3, np.nan, 5, 6, 7, np.nan])\n",
        "a_clean = np.array([el for el in a if not np.isnan(el)])\n",
        "a_clean"
      ],
      "metadata": {
        "colab": {
          "base_uri": "https://localhost:8080/"
        },
        "id": "gq_S8lomb7Cw",
        "outputId": "c06b4823-a8d7-4e2d-86dd-a7fdfa4fa98e"
      },
      "execution_count": 70,
      "outputs": [
        {
          "output_type": "execute_result",
          "data": {
            "text/plain": [
              "array([1., 2., 3., 5., 6., 7.])"
            ]
          },
          "metadata": {},
          "execution_count": 70
        }
      ]
    },
    {
      "cell_type": "markdown",
      "metadata": {
        "id": "HtAWLt0rkGjc"
      },
      "source": [
        "8. Обчисліть евклідову відстань між двома масивами a і b.\n",
        "\n",
        "a = np.array([1,2,3,4,5]) b = np.array([4,5,6,7,8])"
      ]
    },
    {
      "cell_type": "code",
      "source": [
        "a = np.array([1, 2, 3, 4, 5])\n",
        "b = np.array([4, 5, 6, 7, 8])\n",
        "distance = np.linalg.norm(a - b)\n",
        "distance"
      ],
      "metadata": {
        "colab": {
          "base_uri": "https://localhost:8080/"
        },
        "id": "cj_8eWF1c4O_",
        "outputId": "a511eb2e-938f-44aa-9ac6-14fb95b9d82c"
      },
      "execution_count": 71,
      "outputs": [
        {
          "output_type": "execute_result",
          "data": {
            "text/plain": [
              "6.708203932499369"
            ]
          },
          "metadata": {},
          "execution_count": 71
        }
      ]
    },
    {
      "cell_type": "markdown",
      "metadata": {
        "id": "OPhJNVprkIfc"
      },
      "source": [
        "9. Знайдіть індекс 5-го повторення числа 1 у масиві x\n",
        "\n",
        "x = np.array([1, 2, 1, 1, 3, 4, 3, 1, 1, 2, 1, 1, 2])"
      ]
    },
    {
      "cell_type": "code",
      "source": [
        "x = np.array([1, 2, 1, 1, 3, 4, 3, 1, 1, 2, 1, 1, 2])\n",
        "rep_count = 0\n",
        "found_idx = None\n",
        "for i, val in enumerate(x):\n",
        "  if val == 1:\n",
        "    rep_count += 1\n",
        "    if rep_count == 5:\n",
        "      found_idx = i\n",
        "\n",
        "found_idx"
      ],
      "metadata": {
        "colab": {
          "base_uri": "https://localhost:8080/"
        },
        "id": "eNlQzoySeDgl",
        "outputId": "c84b2472-b251-4bdd-a2d7-cf4360aa9c80"
      },
      "execution_count": 75,
      "outputs": [
        {
          "output_type": "execute_result",
          "data": {
            "text/plain": [
              "8"
            ]
          },
          "metadata": {},
          "execution_count": 75
        }
      ]
    },
    {
      "cell_type": "code",
      "source": [
        "x = np.array([1, 2, 1, 1, 3, 4, 3, 1, 1, 2, 1, 1, 2])\n",
        "indices = np.where(x == 1)[0]\n",
        "fifth_occurrence_index = indices[4]\n",
        "fifth_occurrence_index"
      ],
      "metadata": {
        "colab": {
          "base_uri": "https://localhost:8080/"
        },
        "id": "x3yuCaXjfZ5R",
        "outputId": "ebaff1ae-51f6-4f77-fc31-86b1a8a84ce7"
      },
      "execution_count": 78,
      "outputs": [
        {
          "output_type": "execute_result",
          "data": {
            "text/plain": [
              "(array([ 0,  2,  3,  7,  8, 10, 11]),)"
            ]
          },
          "metadata": {},
          "execution_count": 78
        }
      ]
    },
    {
      "cell_type": "markdown",
      "metadata": {
        "id": "3YAKIOyokKZ3"
      },
      "source": [
        "10. Знайдіть повторювані записи (від 2-го випадку повторення і далі) у заданому масиві і позначте їх як True. Перше повторення має бути False.\n",
        "\n",
        "Input np.random.seed(100) a = np.random.randint(0, 5, 10)\n",
        "\n",
        "[0 0 3 0 2 4 2 2 2 2] #Output [False True False True False False True True True True]"
      ]
    },
    {
      "cell_type": "code",
      "source": [
        "np.random.seed(100)\n",
        "a = np.random.randint(0, 5, 10)\n",
        "a"
      ],
      "metadata": {
        "colab": {
          "base_uri": "https://localhost:8080/"
        },
        "id": "lzO9rza6hOyj",
        "outputId": "b4dd7137-922d-410d-a103-d74e13813a90"
      },
      "execution_count": 82,
      "outputs": [
        {
          "output_type": "execute_result",
          "data": {
            "text/plain": [
              "array([0, 0, 3, 0, 2, 4, 2, 2, 2, 2])"
            ]
          },
          "metadata": {},
          "execution_count": 82
        }
      ]
    },
    {
      "cell_type": "code",
      "source": [
        "marks = np.zeros_like(a, dtype=bool)\n",
        "seen = {}\n",
        "for i, value in enumerate(a):\n",
        "    if value in seen:\n",
        "        marks[i] = True\n",
        "    else:\n",
        "        seen[value] = 1\n",
        "marks"
      ],
      "metadata": {
        "colab": {
          "base_uri": "https://localhost:8080/"
        },
        "id": "8DyFgviWfz-M",
        "outputId": "2e043ab6-7d3b-49fc-e6f5-b436d1dcaa01"
      },
      "execution_count": 83,
      "outputs": [
        {
          "output_type": "execute_result",
          "data": {
            "text/plain": [
              "array([False,  True, False,  True, False, False,  True,  True,  True,\n",
              "        True])"
            ]
          },
          "metadata": {},
          "execution_count": 83
        }
      ]
    }
  ],
  "metadata": {
    "colab": {
      "provenance": [],
      "authorship_tag": "ABX9TyMNoXTzta60hahF+Aeumm+J",
      "include_colab_link": true
    },
    "kernelspec": {
      "display_name": "Python 3",
      "name": "python3"
    },
    "language_info": {
      "name": "python"
    }
  },
  "nbformat": 4,
  "nbformat_minor": 0
}